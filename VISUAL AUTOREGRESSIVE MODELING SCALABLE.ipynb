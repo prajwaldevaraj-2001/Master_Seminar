{
  "nbformat": 4,
  "nbformat_minor": 0,
  "metadata": {
    "colab": {
      "provenance": []
    },
    "kernelspec": {
      "name": "python3",
      "display_name": "Python 3"
    },
    "language_info": {
      "name": "python"
    }
  },
  "cells": [
    {
      "cell_type": "code",
      "execution_count": 4,
      "metadata": {
        "colab": {
          "base_uri": "https://localhost:8080/",
          "height": 462
        },
        "id": "phFrh7Hia18M",
        "outputId": "fc44229b-87d3-4af8-b8a6-2ed4ccd82788"
      },
      "outputs": [
        {
          "output_type": "stream",
          "name": "stdout",
          "text": [
            "Training Autoencoder...\n",
            "Epoch 1 Loss: 0.0832\n",
            "Epoch 2 Loss: 0.0882\n",
            "Saved image to reconstruction_result.png ✅\n"
          ]
        },
        {
          "output_type": "display_data",
          "data": {
            "text/plain": [
              "<Figure size 1000x400 with 12 Axes>"
            ],
            "image/png": "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\n"
          },
          "metadata": {}
        }
      ],
      "source": [
        "# Import necessary libraries\n",
        "import torch\n",
        "import torch.nn as nn\n",
        "import torchvision.transforms as transforms\n",
        "import torchvision.datasets as datasets\n",
        "import matplotlib.pyplot as plt\n",
        "\n",
        "# -----------------------------\n",
        "# 1. Load and Preprocess the MNIST Dataset\n",
        "# -----------------------------\n",
        "\n",
        "# Define a set of image transformations:\n",
        "# - Convert PIL images to PyTorch tensors\n",
        "# - Resize images from 28x28 to 16x16 (simulating a lower resolution)\n",
        "transform = transforms.Compose([\n",
        "    transforms.ToTensor(),\n",
        "    transforms.Resize((16, 16))\n",
        "])\n",
        "\n",
        "# Download the MNIST training dataset and apply the transform\n",
        "train_data = datasets.MNIST(root='./data', train=True, download=True, transform=transform)\n",
        "\n",
        "# Create a data loader to iterate over the dataset in batches\n",
        "loader = torch.utils.data.DataLoader(train_data, batch_size=32, shuffle=True)\n",
        "\n",
        "# -----------------------------\n",
        "# 2. Define the Autoencoder Model\n",
        "# -----------------------------\n",
        "\n",
        "# An autoencoder compresses input data (encoder) and then reconstructs it (decoder)\n",
        "class AutoEncoder(nn.Module):\n",
        "    def __init__(self):\n",
        "        super().__init__()\n",
        "\n",
        "        # Encoder: reduces image from 16x16 to 4x4 using 2 convolutional layers\n",
        "        self.encoder = nn.Sequential(\n",
        "            nn.Conv2d(1, 8, 3, stride=2, padding=1),  # Output: (8 channels, 8x8)\n",
        "            nn.ReLU(),\n",
        "            nn.Conv2d(8, 16, 3, stride=2, padding=1), # Output: (16 channels, 4x4)\n",
        "            nn.ReLU()\n",
        "        )\n",
        "\n",
        "        # Decoder: reconstructs image back to 16x16 using transposed convolution\n",
        "        self.decoder = nn.Sequential(\n",
        "            nn.ConvTranspose2d(16, 8, 4, stride=2, padding=1),  # Output: (8, 8x8)\n",
        "            nn.ReLU(),\n",
        "            nn.ConvTranspose2d(8, 1, 4, stride=2, padding=1),   # Output: (1, 16x16)\n",
        "            nn.Sigmoid()  # Keep pixel values between 0 and 1\n",
        "        )\n",
        "\n",
        "    # Forward pass: encode input and then decode it\n",
        "    def forward(self, x):\n",
        "        encoded = self.encoder(x)\n",
        "        decoded = self.decoder(encoded)\n",
        "        return decoded\n",
        "\n",
        "# -----------------------------\n",
        "# 3. Train the Autoencoder\n",
        "# -----------------------------\n",
        "\n",
        "# Instantiate the model\n",
        "model = AutoEncoder()\n",
        "\n",
        "# Define the optimizer (Adam) and loss function (MSE for image reconstruction)\n",
        "optimizer = torch.optim.Adam(model.parameters(), lr=0.001)\n",
        "criterion = nn.MSELoss()\n",
        "\n",
        "# Training loop for a few epochs (can increase for better results)\n",
        "print(\"Training Autoencoder...\")\n",
        "for epoch in range(2):\n",
        "    for imgs, _ in loader:  # We ignore labels (_) since this is unsupervised\n",
        "        recon = model(imgs)               # Forward pass: reconstruct images\n",
        "        loss = criterion(recon, imgs)     # Compute reconstruction loss\n",
        "        optimizer.zero_grad()             # Clear gradients\n",
        "        loss.backward()                   # Backpropagate the error\n",
        "        optimizer.step()                  # Update model weights\n",
        "    print(f\"Epoch {epoch+1} Loss: {loss.item():.4f}\")\n",
        "\n",
        "# -----------------------------\n",
        "# 4. Visualize Original vs Reconstructed Images\n",
        "# -----------------------------\n",
        "\n",
        "# Get a batch of test images from the loader\n",
        "test_imgs, _ = next(iter(loader))\n",
        "\n",
        "# Use the trained model to reconstruct these images\n",
        "reconstructed = model(test_imgs)\n",
        "\n",
        "# Plot original and reconstructed images side by side\n",
        "fig, axs = plt.subplots(2, 6, figsize=(10, 4))\n",
        "for i in range(6):\n",
        "    # Display original image (top row)\n",
        "    axs[0, i].imshow(test_imgs[i][0].detach().numpy(), cmap='gray')\n",
        "    axs[0, i].axis('off')\n",
        "\n",
        "    # Display reconstructed image (bottom row)\n",
        "    axs[1, i].imshow(reconstructed[i][0].detach().numpy(), cmap='gray')\n",
        "    axs[1, i].axis('off')\n",
        "\n",
        "# Add titles\n",
        "axs[0, 0].set_title('Original')\n",
        "axs[1, 0].set_title('Reconstructed')\n",
        "\n",
        "# Save the figure to a file\n",
        "plt.tight_layout()\n",
        "plt.savefig(\"reconstruction_result.png\")\n",
        "print(\"Saved image to reconstruction_result.png ✅\")"
      ]
    },
    {
      "cell_type": "code",
      "source": [
        "# Import necessary libraries\n",
        "import torch\n",
        "import torch.nn as nn\n",
        "import torchvision.transforms as transforms\n",
        "import torchvision.datasets as datasets\n",
        "import matplotlib.pyplot as plt\n",
        "from IPython.display import Image as IPImage, display  # For inline image display in Jupyter environments\n",
        "\n",
        "# -----------------------------\n",
        "# 1. Load and Preprocess the MNIST Dataset\n",
        "# -----------------------------\n",
        "\n",
        "# Define a set of transformations to apply to the images:\n",
        "# - Convert images to PyTorch tensors.\n",
        "# - Resize images from 28x28 to 16x16 (simulating lower resolution).\n",
        "transform = transforms.Compose([\n",
        "    transforms.ToTensor(),\n",
        "    transforms.Resize((16, 16))  # Resize images to 16x16 to simulate a coarse scale\n",
        "])\n",
        "\n",
        "# Download the MNIST training dataset and apply the transformation.\n",
        "train_data = datasets.MNIST(root='./data', train=True, download=True, transform=transform)\n",
        "\n",
        "# Create a DataLoader for batching and shuffling the dataset\n",
        "loader = torch.utils.data.DataLoader(train_data, batch_size=32, shuffle=True)\n",
        "\n",
        "# -----------------------------\n",
        "# 2. Define the Autoencoder Model\n",
        "# -----------------------------\n",
        "\n",
        "# Define a simple convolutional autoencoder model\n",
        "class AutoEncoder(nn.Module):\n",
        "    def __init__(self):\n",
        "        super().__init__()\n",
        "\n",
        "        # Encoder: The first two layers reduce image size from 16x16 to 4x4 using convolution\n",
        "        self.encoder = nn.Sequential(\n",
        "            nn.Conv2d(1, 8, 3, stride=2, padding=1),  # First convolutional layer: 16x16 -> 8x8\n",
        "            nn.ReLU(),  # ReLU activation\n",
        "            nn.Conv2d(8, 16, 3, stride=2, padding=1), # Second convolutional layer: 8x8 -> 4x4\n",
        "            nn.ReLU()  # ReLU activation\n",
        "        )\n",
        "\n",
        "        # Decoder: The next two layers reconstruct the image back from 4x4 to 16x16 using transposed convolution\n",
        "        self.decoder = nn.Sequential(\n",
        "            nn.ConvTranspose2d(16, 8, 4, stride=2, padding=1),  # First transposed convolution: 4x4 -> 8x8\n",
        "            nn.ReLU(),  # ReLU activation\n",
        "            nn.ConvTranspose2d(8, 1, 4, stride=2, padding=1),   # Second transposed convolution: 8x8 -> 16x16\n",
        "            nn.Sigmoid()  # Sigmoid activation to output pixel values between 0 and 1\n",
        "        )\n",
        "\n",
        "    # Forward pass: The input image goes through the encoder and then the decoder\n",
        "    def forward(self, x):\n",
        "        encoded = self.encoder(x)  # Compress the image\n",
        "        decoded = self.decoder(encoded)  # Reconstruct the image\n",
        "        return decoded\n",
        "\n",
        "# -----------------------------\n",
        "# 3. Train the Autoencoder\n",
        "# -----------------------------\n",
        "\n",
        "# Initialize the model, optimizer, and loss function\n",
        "model = AutoEncoder()\n",
        "optimizer = torch.optim.Adam(model.parameters(), lr=0.001)  # Adam optimizer\n",
        "criterion = nn.MSELoss()  # Mean Squared Error Loss for image reconstruction\n",
        "\n",
        "# Training loop for a few epochs (2 epochs for demonstration)\n",
        "print(\"Training Autoencoder...\")\n",
        "for epoch in range(2):  # Change the number of epochs for better training\n",
        "    for imgs, _ in loader:  # Ignore the labels (since it's unsupervised)\n",
        "        recon = model(imgs)  # Forward pass: Reconstruct the images\n",
        "        loss = criterion(recon, imgs)  # Calculate the reconstruction loss\n",
        "        optimizer.zero_grad()  # Zero the gradients before the backward pass\n",
        "        loss.backward()  # Backpropagate the loss\n",
        "        optimizer.step()  # Update the model's parameters\n",
        "    # Print the loss for the current epoch\n",
        "    print(f\"Epoch {epoch+1} Loss: {loss.item():.4f}\")\n",
        "\n",
        "# -----------------------------\n",
        "# 4. Visualize Original vs Reconstructed Images\n",
        "# -----------------------------\n",
        "\n",
        "# Get a batch of test images to visualize the results\n",
        "test_imgs, _ = next(iter(loader))\n",
        "\n",
        "# Pass the test images through the trained autoencoder to get reconstructed images\n",
        "reconstructed = model(test_imgs)\n",
        "\n",
        "# Create a figure with two rows: One for original images, one for reconstructed images\n",
        "fig, axs = plt.subplots(2, 6, figsize=(10, 4))\n",
        "\n",
        "for i in range(6):  # Display 6 images\n",
        "    # Display the original image in the top row\n",
        "    axs[0, i].imshow(test_imgs[i][0].detach().numpy(), cmap='gray')\n",
        "    axs[0, i].axis('off')  # Hide axis\n",
        "    # Display the reconstructed image in the bottom row\n",
        "    axs[1, i].imshow(reconstructed[i][0].detach().numpy(), cmap='gray')\n",
        "    axs[1, i].axis('off')  # Hide axis\n",
        "\n",
        "# Add titles for the two rows\n",
        "axs[0, 0].set_title('Original')\n",
        "axs[1, 0].set_title('Reconstructed')\n",
        "\n",
        "# Save the figure to a file\n",
        "output_path = \"reconstruction_result.png\"\n",
        "plt.tight_layout()  # Adjust layout to prevent overlap\n",
        "plt.savefig(output_path)  # Save the image\n",
        "print(f\"Saved image to {output_path} ✅\")\n",
        "\n",
        "# -----------------------------\n",
        "# 5. Inline Display in Jupyter or IPython Environments\n",
        "# -----------------------------\n",
        "\n",
        "# If running in a Jupyter-compatible environment (like Jupyter Notebook or Codespaces),\n",
        "# display the saved image inline\n",
        "try:\n",
        "    display(IPImage(filename=output_path))  # Display the image inline\n",
        "except Exception as e:\n",
        "    print(\"Couldn't display inline image:\", e)  # If there's an error, print the error message\n"
      ],
      "metadata": {
        "colab": {
          "base_uri": "https://localhost:8080/",
          "height": 862
        },
        "id": "33aPNXrqbg-T",
        "outputId": "3db6000d-45ed-4c7a-dd7e-2b187203c98b"
      },
      "execution_count": 3,
      "outputs": [
        {
          "output_type": "stream",
          "name": "stdout",
          "text": [
            "Training Autoencoder...\n",
            "Epoch 1 Loss: 0.0019\n",
            "Epoch 2 Loss: 0.0009\n",
            "Saved image to reconstruction_result.png ✅\n"
          ]
        },
        {
          "output_type": "display_data",
          "data": {
            "image/png": "iVBORw0KGgoAAAANSUhEUgAAA+gAAAGQCAYAAAA9TUphAAAAOnRFWHRTb2Z0d2FyZQBNYXRwbG90bGliIHZlcnNpb24zLjEwLjAsIGh0dHBzOi8vbWF0cGxvdGxpYi5vcmcvlHJYcgAAAAlwSFlzAAAPYQAAD2EBqD+naQAANlZJREFUeJzt3Xu41WWZN/B7H2CDHJRgiwrIWdAkNQ9jJB7S9NXsTStP9aKoJemk1pTz2skcZ95MrcmZRk3LQ72W46E0tcxMJy018tUExVQQ8IQnQMiNHPbe6/f+0SUjgT6PsGA/wOdzXV1Xrv1d9/3s33rWb617//ZmNVRVVQUAAADQpRq7egEAAACAAR0AAACKYEAHAACAAhjQAQAAoAAGdAAAACiAAR0AAAAKYEAHAACAAhjQAQAAoAAGdAAAACiAAR0AAAAKYEAHAACAAhjQAQAAoAAGdAAAACiAAX0NnX322dHQ0LBG973qqquioaEh5syZU99FvcmcOXOioaEhrrrqqnXWAwAAgPrZJAf06dOnx//6X/8rBg0aFC0tLbHNNtvEJz/5yZg+fXpXLw0AAIBNVENVVVVXL2J9+tnPfhbHHHNMvOtd74oTTzwxhg8fHnPmzInLL7885s+fH//5n/8Zhx9+eLJOR0dHdHR0RI8ePd7xGjo7O6O9vT1aWlrW+Cp8ypw5c2L48OFx5ZVXxqRJk9ZJDwAAAOqnuasXsD499dRTMXHixBgxYkTcc8890drauuJrp59+ekyYMCEmTpwY06ZNixEjRqy2xuLFi6NXr17R3Nwczc1rdviampqiqalpje4LAADAxmmT+hX3Cy64IF5//fW47LLLVhrOIyIGDBgQl156aSxevDjOP//8iPjvvzN/7LHH4hOf+ET069cv9tprr5W+9mZLliyJ0047LQYMGBB9+vSJ//k//2c8//zz0dDQEGefffaK3Or+Bn3YsGFx6KGHxu9///vYY489okePHjFixIj40Y9+tFKPBQsWxBe/+MUYN25c9O7dO/r27RsHH3xwTJ06tY5HCgAAgPVtk7qCfsstt8SwYcNiwoQJq/363nvvHcOGDYtf/OIXK91+xBFHxOjRo+Mb3/hGvN1fBEyaNCmuu+66mDhxYuy5555x9913x4c+9KHs9c2cOTM+/vGPx4knnhjHHXdcXHHFFTFp0qTYdddd493vfndERMyaNStuuummOOKII2L48OHx0ksvxaWXXhr77LNPPPbYY7HNNttk9wMAAKAcm8yAvmjRopg7d2585CMfedvce97znrj55pvjtddeW3HbTjvtFD/5yU/e9n4PPfRQXHfddfG5z30uvvOd70RExCmnnBLHH3989tXtJ554Iu65554VP0A48sgjY8iQIXHllVfGt771rYiIGDduXDz55JPR2Pjfv/wwceLEGDt2bFx++eXxta99LasXAAAAZdlkfsX9jYG7T58+b5t74+t/+ctfVtz2mc98Jln/V7/6VUT8dSh/s1NPPTV7jTvssMNKV/dbW1tjzJgxMWvWrBW3tbS0rBjOOzs7Y/78+dG7d+8YM2ZMPPTQQ9m9AAAAKMsmM6C/MXi/+cr46qxukB8+fHiy/tNPPx2NjY2rZEeNGpW9xm233XaV2/r16xevvvrqiv+u1Wrxne98J0aPHh0tLS0xYMCAaG1tjWnTpsWiRYuyewEAAFCWTWZA33zzzWPrrbeOadOmvW1u2rRpMWjQoOjbt++K23r27LmulxcR8Zb/svub/+79G9/4RvzDP/xD7L333nH11VfH7bffHnfccUe8+93vjlqttl7WCQAAQP1tMn+DHhFx6KGHxve///34/e9/v+JfY3+z3/3udzFnzpyYPHnyO649dOjQqNVqMXv27Bg9evSK22fOnLlWa/5bN9xwQ+y3335x+eWXr3T7woULY8CAAXXtBQAAwPqzyVxBj4g444wzomfPnjF58uSYP3/+Sl9bsGBBfOYzn4nNNtsszjjjjHdc+6CDDoqIiIsvvnil27/73e+u+YJXo6mpaZV/Sf7666+P559/vq59AAAAWL82qSvoo0ePjh/+8IfxyU9+MsaNGxcnnnhiDB8+PObMmROXX355zJs3L6655poYOXLkO6696667xsc+9rG48MILY/78+Ss+Zu3JJ5+MiFjlM9PX1KGHHhrnnHNOHH/88TF+/Ph45JFH4sc//nGMGDGiLvUBAADoGpvUgB7x1880Hzt2bJx77rkrhvL+/fvHfvvtF1/+8pdjxx13XOPaP/rRj2KrrbaKa665Jm688cY44IAD4tprr40xY8ZEjx496rL+L3/5y7F48eL4yU9+Etdee228973vjV/84hdx5pln1qU+AAAAXaOh+tvfl6auHn744dhll13i6quvjk9+8pNdvRwAAAAKtUn9Dfq6tmTJklVuu/DCC6OxsTH23nvvLlgRAAAAG4pN7lfc16Xzzz8/Hnzwwdhvv/2iubk5brvttrjtttvipJNOiiFDhnT18gAAACiYX3GvozvuuCP+6Z/+KR577LFoa2uLbbfdNiZOnBhf+cpXornZz0IAAAB4awZ0AAAAKIC/QQcAAIACGNABAACgAAZ0AAAAKIABHQAAAAqwVv+0eENDQ73WASus6b9baD+yLtiPlGRt/l1Xe7Jr5Bz3lpaWZGb58uVZ/Wq1WlauXpwjKYn9SEnWdD+6gg4AAAAFMKADAABAAQzoAAAAUAADOgAAABTAgA4AAAAFMKADAABAAQzoAAAAUIC1+hx08uV8vuKIESOyanXr1i2ZeeKJJ5KZtfk8XQAgbfz48cnMiSeemMycc845Wf3mzJmTlWPD0adPn2Tm3e9+d1atRx99NJlpa2vLqgWsG66gAwAAQAEM6AAAAFAAAzoAAAAUwIAOAAAABTCgAwAAQAEM6AAAAFAAAzoAAAAUwIAOAAAABTCgAwAAQAGau3oBm4rRo0cnM5dffnlWrVmzZiUzkydPTmaWLl2a1Q8AWNl2222XlTvzzDOTmT/84Q/JzMKFC7P6sWFpampKZo466qhk5h//8R+z+h122GHJzGOPPZZVC1g3XEEHAACAAhjQAQAAoAAGdAAAACiAAR0AAAAKYEAHAACAAhjQAQAAoAAGdAAAACiAAR0AAAAK0NzVC9gYbL755snMZz/72WRm8ODBWf3OPPPMZGbZsmVZtdg0tbS0JDO9e/fOqtW/f/9kZtddd01mdt5556x+Oev64x//mFXrxz/+cVZuQ7DZZpslM8ccc0xWrZzHa8qUKVm1fve73yUzf/nLX5KZRYsWZfVrb2/PysHbaW1tTWZOPfXUrFp33XVXMnPJJZckM0uXLs3qx4Zlxx13TGZOOeWUZKZPnz5Z/caPH5/MPPPMM8lMW1tbVj/WvS222CKZyXldj4g44IADkpkBAwYkM88++2xWv+uuuy6Zefzxx7NqbUxcQQcAAIACGNABAACgAAZ0AAAAKIABHQAAAApgQAcAAIACGNABAACgAAZ0AAAAKIABHQAAAArQ3NUL2Bjsu+++ycyHPvShZObaa6/N6jdlypRkpqqqrFqUoaGhIZnZZpttsmrttttudcm85z3vyeo3ePDgZGazzTZLZrbaaqusfltssUUy09HRkVXrP//zP7NyG4Lu3bsnM3vvvXdWrYkTJyYzRx99dFatl156KZmZPXt2MnP99ddn9fvJT36SzCxbtiyrFhunfv36JTOf//znk5nW1tasfueff34ys3Tp0qxabDhaWlqyckcddVQyM27cuGSmuTnvLf3Xv/71ZObZZ59NZn79619n9fN+dM3lPqaHH354MvOJT3wiq1Z7e3tWLiVnX0dEzJ07N5l58sknk5larZbVb0PhCjoAAAAUwIAOAAAABTCgAwAAQAEM6AAAAFAAAzoAAAAUwIAOAAAABTCgAwAAQAEM6AAAAFAAAzoAAAAUoLmrF1CygQMHZuU+9alPJTMLFixIZn7wgx9k9evo6MjKseEYOnRoMvP9738/q9aAAQOSmblz5yYzM2fOzOp3yy23JDNPPvlkMnPiiSdm9avVasnMeeedl1Vr2bJlWbkNwaJFi5KZa665JqvW2LFjk5mcxzQi7zw6YcKEZGaPPfbI6vfEE08kM/fdd19WLTYsffr0ycqdeuqpyczOO++czJx22mlZ/Z599tmsHBuXcePGZeWOOeaYZKahoSGZefTRR7P6bbvttsnMbrvtlszceeedWf28Z11znZ2dWblf/OIXycx//dd/ZdVauHBhMpPznvXWW2/N6pf7PW5qXEEHAACAAhjQAQAAoAAGdAAAACiAAR0AAAAKYEAHAACAAhjQAQAAoAAGdAAAACiAAR0AAAAK0NzVC+gqTU1NycxRRx2VVWv33XdPZr797W8nM7Nnz87qx4Zjm222ycp9/vOfr1vPiy++OJm56aabkplXXnmlDqv5q+222y6ZufLKK7NqTZkyJZlZsmRJVq2NSVVVycx//dd/ZdWaPn16MjN37tysWkOGDElmrrnmmmRm6NChWf3a2tqycmxYmpvTb1eOPvrorFp77bVXMnPWWWclMzNnzszqx8anR48eyczJJ5+cVSvn3P3pT386mZkxY0ZWvx/96EfJTLdu3ZKZhoaGrH6suZy9ERHx8ssv161n9+7dk5mDDjoomenTp09WvyeffDKZqdVqWbU2Jq6gAwAAQAEM6AAAAFAAAzoAAAAUwIAOAAAABTCgAwAAQAEM6AAAAFAAAzoAAAAUwIAOAAAABTCgAwAAQAGau3oBXWXrrbdOZiZNmpRV66GHHkpm7rvvvmRm//33z+o3a9asumRqtVpWP1avf//+ycwZZ5yRVWvvvfdOZo4//visWkuXLk1mmpqasmrVy8yZM5OZGTNmZNWqqmptl7PJWrZsWVbu2WefrVvPvn37JjM9e/ZMZh5//PGsfk8//XRWjjI0NDRk5fbcc89kJvccef755yczDz74YDIzatSorH7jx49PZm6++eZkZuHChVn9WHONjXnXrQ4++OBk5pBDDsmq9b3vfS+Zuf7665OZ3XbbLatfa2trMpPzWuG1eOPU0tKSzIwdOzaZyX0tfuKJJ7JymxpX0AEAAKAABnQAAAAogAEdAAAACmBABwAAgAIY0AEAAKAABnQAAAAogAEdAAAACmBABwAAgAI0d/UC6q2xMe9nDhMmTEhmhg4dmlVrxowZycw3vvGNZGbEiBFZ/WbPnp3M/MM//EMy8+CDD2b1q6oqK7epOeSQQ5KZY445JqvWr371q2Smo6Mjq9bSpUuTmSVLliQzTU1NWf06OzuTmVqtllWLDccOO+yQlfvqV7+azIwePTqZufbaa7P6NTQ0JDM5rxP27PrRo0ePrNzJJ5+czOS+pv3mN79JZgYNGpTMXHHFFVn9ttpqq2TmvvvuS2YWLlyY1Y81t+WWW2blTjrppGTmkUceyar1ve99L5nJeV3PeV8bkbeP7r333mQm9z0JG5bW1tZk5r3vfW8y86c//Smr3/z587NymxpX0AEAAKAABnQAAAAogAEdAAAACmBABwAAgAIY0AEAAKAABnQAAAAogAEdAAAACmBABwAAgAI0d/UC6q2xMe9nDttvv30y06dPn6xaBxxwQDLz3HPPJTP/+q//mtXvpJNOSmYOOeSQZGbq1KlZ/drb27Nym5qmpqZk5tVXX82qte+++yYz48ePz6q1ZMmSZGbp0qXJzGWXXZbV74orrkhmqqrKqsWGY8cdd8zK7bnnnsnMZpttlswcccQRWf1aW1uTmR/84AfJzC9/+cusfs6Pa6d79+5ZuTFjxiQzP/7xj7NqLV++PJn58Ic/nMxMmDAhq9+DDz6YzLS1tWXVYs01NDQkM7mP6dixY5OZ008/PavWK6+8kswMGTIkmTnwwAOz+v35z39OZnL2LBun7bbbLpnp379/MnPttddm9fP+cPVcQQcAAIACGNABAACgAAZ0AAAAKIABHQAAAApgQAcAAIACGNABAACgAAZ0AAAAKIABHQAAAApgQAcAAIACNHf1ArpKVVXJTLdu3bJqdXZ2JjNXXHFFMjNr1qysfrVaLZl56aWX6lKHt3b11VcnM/fcc09WrZEjRyYzu+22W1atadOmJTOHH354MjN58uSsfjfeeGMys2DBgqxabDhuvfXWrNwee+yRzJx88snJzG233ZbV74UXXkhmFi5cmMzkvEaw9tra2rJy//f//t9kJvec1bt372Rm0qRJyUzOa39ExCWXXJLMvPzyy1m1WHN9+/ZNZg477LCsWlOnTk1mfvvb32bV2n333ZOZL33pS8nMzjvvnNXvtNNOS2aWLFmSVYsNx+abb56VO+qoo5KZP/3pT8nMAw88kNWP1XMFHQAAAApgQAcAAIACGNABAACgAAZ0AAAAKIABHQAAAApgQAcAAIACGNABAACgAAZ0AAAAKEBzVy+g3jo7O7NyDz/8cDLz2muvZdVqampKZo4//visWjluvfXWZObnP/95MpN7rFi9jo6OZGb27NlZtcaMGZPMTJs2LavWgw8+mMx85jOfSWbmzZuX1W/x4sVZOTYur7/+elaura0tmfnLX/6SzJx33nlZ/XKeJznP3aqqsvqxdnJfh3Je0w499NCsWqeffnoy07t372Tmsccey+p37733JjO1Wi2rFmuuuTn9ljfncY+I2HbbbZOZ73//+1m13ve+9yUzffv2TWYuvvjirH4/+9nPkhn7ceOTs88iIo466qhk5oILLkhmFixYkNWP1XMFHQAAAApgQAcAAIACGNABAACgAAZ0AAAAKIABHQAAAApgQAcAAIACGNABAACgAAZ0AAAAKEBzVy+g3qqqyspNmTIlmXnwwQezaj3++OPJzB//+Mdk5s9//nNWv0cffTSZaWtry6rFutXS0pKV22qrrZKZe++9N6vWwQcfnMyMHj06mbnggguy+i1btiwrB28l57zd0dGRVau9vX1tl0OBnnnmmWTm05/+dFat4cOHJzPbbLNNMlOr1bL65ayddS/nPLN8+fKsWttvv30yM2rUqKxaTz75ZDLzH//xH8nMD37wg6x+ixYtysqx4WhsTF9vPfzww7Nq9ezZM5np7OxMZnLnMVbPFXQAAAAogAEdAAAACmBABwAAgAIY0AEAAKAABnQAAAAogAEdAAAACmBABwAAgAIY0AEAAKAABnQAAAAoQHNXL6CrvPTSS8nMiSeemFVr/vz5ycyiRYuyarFx2XLLLbNyhxxySDKzxx57ZNX6u7/7u2TmxhtvTGauvfbarH6wtnr27JnMjBkzJqvW1KlT13Y5FKhWqyUzc+bMyaqVm2PjkvM+7Mwzz8yq9c1vfjOZ6ezszKqV8x7yxRdfTGba29uz+rHxede73pXMjB8/PqvWggULkpm77747mamqKqsfq+cKOgAAABTAgA4AAAAFMKADAABAAQzoAAAAUAADOgAAABTAgA4AAAAFMKADAABAAQzoAAAAUIDmrl5AV+ns7ExmZs2atR5WwsbslVdeycr94he/SGZGjhyZVeukk05KZh599NFkZunSpVn94O3k7LU777wzmZk7d249lgNsonLe9z311FPrYSVQX21tbcnM/fffn1XrxRdfTGYeeuihrFqsOVfQAQAAoAAGdAAAACiAAR0AAAAKYEAHAACAAhjQAQAAoAAGdAAAACiAAR0AAAAKYEAHAACAAhjQAQAAoAANVVVVa3znhoZ6rgUiImJNt+SGvB+bmpqSmcbGvJ+ntbe3r+1yeJNNcT/WU3NzczLTrVu3ZGbZsmVZ/Wq1WlZuQ7UWL9n2JOuEcyQlsR9Xr0ePHlm5nNfQ5cuXr+1yNhlruh9dQQcAAIACGNABAACgAAZ0AAAAKIABHQAAAApgQAcAAIACGNABAACgAAZ0AAAAKIABHQAAAArQUK3pJ6gDAAAAdeMKOgAAABTAgA4AAAAFMKADAABAAQzoAAAAUAADOgAAABTAgA4AAAAFMKADAABAAQzoAAAAUAADOgAAABTAgA4AAAAFMKADAABAAQzoAAAAUAADOgAAABTAgM5amzNnTjQ0NMRVV13V1UsBAADYYHXpgH7VVVdFQ0PDiv81NzfHoEGDYtKkSfH888935dLq7uKLL+7yAbaENQAAALB6zV29gIiIc845J4YPHx5Lly6NP/zhD3HVVVfF73//+3j00UejR48eXb28urj44otjwIABMWnSpE16DQAAAKxeEQP6wQcfHLvttltERHzqU5+KAQMGxHnnnRc333xzHHnkkV28uvVv8eLF0atXr65eBgAAAOtRkX+DPmHChIiIeOqpp1bc9vjjj8fHP/7xeNe73hU9evSI3XbbLW6++eZV7rtw4cL4/Oc/H8OGDYuWlpYYPHhwHHvssTFv3rwVmZdffjlOPPHEGDhwYPTo0SN22mmn+OEPf7hSnTf+rvpb3/pWXHbZZTFy5MhoaWmJ3XffPR544IGVsi+++GIcf/zxMXjw4GhpaYmtt946PvKRj8ScOXMiImLYsGExffr0uPvuu1f8Ov++++4bEf/9a/533313nHLKKbHlllvG4MGDIyJi0qRJMWzYsFW+x7PPPjsaGhpWuf3qq6+OPfbYIzbbbLPo169f7L333vHrX/86uYY3jtvnPve5GDJkSLS0tMSoUaPivPPOi1qttsrxnTRpUmy++eaxxRZbxHHHHRcLFy5cZS0AAAC8M0VcQf9bbwy2/fr1i4iI6dOnx/vf//4YNGhQnHnmmdGrV6+47rrr4rDDDouf/vSncfjhh0dERFtbW0yYMCH+/Oc/xwknnBDvfe97Y968eXHzzTfHc889FwMGDIglS5bEvvvuGzNnzozPfvazMXz48Lj++utj0qRJsXDhwjj99NNXWstPfvKTeO2112Ly5MnR0NAQ559/fnz0ox+NWbNmRbdu3SIi4mMf+1hMnz49Tj311Bg2bFi8/PLLcccdd8QzzzwTw4YNiwsvvDBOPfXU6N27d3zlK1+JiIiBAweu1OeUU06J1tbWOOuss2Lx4sXv+Jj90z/9U5x99tkxfvz4OOecc6J79+4xZcqUuOuuu+LAAw982zW8/vrrsc8++8Tzzz8fkydPjm233Tbuu++++NKXvhQvvPBCXHjhhRERUVVVfOQjH4nf//738ZnPfCa23377uPHGG+O44457x+sFAADgb1Rd6Morr6wiovrNb35TvfLKK9Wzzz5b3XDDDVVra2vV0tJSPfvss1VVVdX+++9fjRs3rlq6dOmK+9ZqtWr8+PHV6NGjV9x21llnVRFR/exnP1ulV61Wq6qqqi688MIqIqqrr756xdeWL19eve9976t69+5d/eUvf6mqqqpmz55dRUTVv3//asGCBSuyP//5z6uIqG655Zaqqqrq1VdfrSKiuuCCC972e333u99d7bPPPm95DPbaa6+qo6Njpa8dd9xx1dChQ1e5z9e//vXqzQ/djBkzqsbGxurwww+vOjs7V/t9v90a/vmf/7nq1atX9eSTT650+5lnnlk1NTVVzzzzTFVVVXXTTTdVEVGdf/75KzIdHR3VhAkTqoiorrzyyrf69gEAAEgo4lfcDzjggGhtbY0hQ4bExz/+8ejVq1fcfPPNMXjw4FiwYEHcddddceSRR8Zrr70W8+bNi3nz5sX8+fPjoIMOihkzZqz4F99/+tOfxk477bTiivqbvfEr4b/85S9jq622imOOOWbF17p16xannXZatLW1xd13373S/Y466qgVV/Ij/vvX72fNmhURET179ozu3bvHb3/723j11VfX+Bh8+tOfjqampjW670033RS1Wi3OOuusaGxc+SFd3a/C/63rr78+JkyYEP369VtxfOfNmxcHHHBAdHZ2xj333BMRfz12zc3NcfLJJ6+4b1NTU5x66qlrtG4AAAD+WxG/4n7RRRfFdtttF4sWLYorrrgi7rnnnmhpaYmIiJkzZ0ZVVfG1r30tvva1r632/i+//HIMGjQonnrqqfjYxz72tr2efvrpGD169CqD7Pbbb7/i62+27bbbrvTfbwzrbwzjLS0tcd5558UXvvCFGDhwYOy5555x6KGHxrHHHhtbbbVV5hGIGD58eHb2bz311FPR2NgYO+ywwxrdf8aMGTFt2rRobW1d7ddffvnliPjrsdl6662jd+/eK319zJgxa9QXAACA/1bEgL7HHnus+FfcDzvssNhrr73iE5/4RDzxxBMr/pGyL37xi3HQQQet9v6jRo1aZ2t7q6vaVVWt+P+f+9zn4sMf/nDcdNNNcfvtt8fXvva1OPfcc+Ouu+6KXXbZJatPz549V7ntra5+d3Z2ZtXMVavV4oMf/GD84z/+42q/vt1229W1HwAAAKsqYkB/s6ampjj33HNjv/32i//4j/+IE044ISL++mvoBxxwwNved+TIkfHoo4++bWbo0KExbdq0qNVqK11Ff/zxx1d8fU2MHDkyvvCFL8QXvvCFmDFjRuy8887x7W9/O66++uqIyPtV87/Vr1+/1f4L6X97lX/kyJFRq9Xisccei5133vkt673VGkaOHBltbW3J4zt06NC48847o62tbaWr6E888cTb3g8AAIC0Iv4G/W/tu+++sccee8SFF14Yffv2jX333TcuvfTSeOGFF1bJvvLKKyv+/8c+9rGYOnVq3Hjjjavk3rjifcghh8SLL74Y11577YqvdXR0xHe/+93o3bt37LPPPu9ora+//nosXbp0pdtGjhwZffr0iWXLlq24rVevXu/448hGjhwZixYtimnTpq247YUXXljl+zvssMOisbExzjnnnFU+Fu3NV/rfag1HHnlk3H///XH77bev8rWFCxdGR0dHRPz12HV0dMQll1yy4uudnZ3x3e9+9x19XwAAAKyquCvobzjjjDPiiCOOiKuuuiouuuii2GuvvWLcuHHx6U9/OkaMGBEvvfRS3H///fHcc8/F1KlTV9znhhtuiCOOOCJOOOGE2HXXXWPBggVx8803x/e+973Yaaed4qSTTopLL700Jk2aFA8++GAMGzYsbrjhhrj33nvjwgsvjD59+ryjdT755JOx//77x5FHHhk77LBDNDc3x4033hgvvfRSHH300Styu+66a1xyySXxL//yLzFq1KjYcsst4wMf+MDb1j766KPjf//v/x2HH354nHbaafH666/HJZdcEtttt1089NBDK3KjRo2Kr3zlK/HP//zPMWHChPjoRz8aLS0t8cADD8Q222wT55577tuu4Ywzzoibb745Dj300Jg0aVLsuuuusXjx4njkkUfihhtuiDlz5sSAAQPiwx/+cLz//e+PM888M+bMmRM77LBD/OxnP4tFixa9o2MGAADAanTlPyH/xkeMPfDAA6t8rbOzsxo5cmQ1cuTIqqOjo3rqqaeqY489ttpqq62qbt26VYMGDaoOPfTQ6oYbbljpfvPnz68++9nPVoMGDaq6d+9eDR48uDruuOOqefPmrci89NJL1fHHH18NGDCg6t69ezVu3LhVPiLsjY9ZW93Hp0VE9fWvf72qqqqaN29e9fd///fV2LFjq169elWbb7559Xd/93fVddddt9J9XnzxxepDH/pQ1adPnyoiVnzc2dsdg6qqql//+tfVjjvuWHXv3r0aM2ZMdfXVV6/yMWtvuOKKK6pddtmlamlpqfr161fts88+1R133JFcQ1VV1WuvvVZ96UtfqkaNGlV17969GjBgQDV+/PjqW9/6VrV8+fKVju/EiROrvn37Vptvvnk1ceLE6k9/+pOPWQMAAFhLDVX1pt+BBgAAALpEkX+DDgAAAJsaAzoAAAAUwIAOAAAABTCgAwAAQAEM6AAAAFAAAzoAAAAUwIAOAAAABWheqzs3p+/e2dm5Ni3esYaGhqzc+v7498bG9M9CcteUk8s9DvXqV09r2s9+zJezrhLXFFHfdeX0rNVqa1TbftywbWz7McKefCfqeY7MqdW7d+9kJvexX7x4cVauXrxmr3tNTU3JTO7+qNfaSz1W9uO65z1kfs81fc12BR0AAAAKYEAHAACAAhjQAQAAoAAGdAAAACiAAR0AAAAKYEAHAACAAhjQAQAAoAAN1Vp8IFw9P2t7Y5fz+Yp9+/bNqpXzeZjz589PZtbm83TXpTXdkvbjhq2en2HZ2Fi/nz2u6eeelrgfu2JNPlM937r+HPQS92Spco5V7nlmv/32S2Y+8IEPJDM//OEPs/rNnDkzmcl9Xubk1nRP2o9/lXMcevfuncwMHDgwq99zzz2XzCxdujSrVom8h9ywlPiZ6rl8DjoAAABs5AzoAAAAUAADOgAAABTAgA4AAAAFMKADAABAAQzoAAAAUAADOgAAABTAgA4AAAAFMKADAABAAZrX5s4NDQ3JTFVVdauVI7dfPTU1NSUzY8eOTWZ++ctfZvX79a9/ncycfvrpyczixYuz+m0o1vd+7Iq9tj7lPicbG9M/5+vWrVsyk3s8e/TokcwsWbIkq1Z7e3tWbk2s7/2Y8zg0N+ed8rt3757MLFu2LKtWZ2dnXTKbgnV9TnGO/KuctedkhgwZktXvi1/8YjLz2GOPJTPPPPNMVr+c416r1bJqrUsb+37MfQ3NOd+efPLJycxJJ52U1e/oo49OZh566KFkpoQ9VE8b8n7M6Zczq0Tk7cec1+yc9yS5tUp9H7EuzymuoAMAAEABDOgAAABQAAM6AAAAFMCADgAAAAUwoAMAAEABDOgAAABQAAM6AAAAFMCADgAAAAVoXps7r8sPaF+dhoaGZCZ3TY2N9fvZRI8ePZKZCy64IJnp379/Vr+f//znyczy5cuzauXIOe4lWN/7MWcP1Wq1rFr1PMZNTU11qbPZZptl5bbbbrtkZuutt05m9ttvv6x+o0ePTmYuu+yyrFq/+c1vsnJrYn3vx5aWlmTmwx/+cFatgw8+OJm5/vrrs2o98cQTycxzzz2XzLS3t2f1q9dxX9+P3/rgHJlfq7W1NZk57bTTsvpNmTIlmfm3f/u3ZGbp0qVZ/XKU8Lq+Ie/HnFq57zNzXh8/9alPJTPbbrttVr999903mXn88ceTmcWLF2f121DUcz/m1Mp5DuY+T/v06ZPM5LyuR0S85z3vSWZy9uwrr7yS1e8HP/hBMjNnzpxkprOzM6tfCee+HK6gAwAAQAEM6AAAAFAAAzoAAAAUwIAOAAAABTCgAwAAQAEM6AAAAFAAAzoAAAAUwIAOAAAABWju6gW8oaqqutSp5wfQNzfnHZ4PfOADycyOO+6YzPz4xz/O6nfbbbclM52dnVm1cuQ8NvU87iWo135sbMz7GVhTU1My079//6xaH/nIR5KZ4cOHJzNjx47N6jdixIhkplu3bsnMoEGDsvr16dMnmXn44Yezat11111Zua5Wr/143HHHZeUOPPDAZOajH/1oVq25c+cmM6+88koyk3t+vOGGG5KZhQsXJjMdHR1Z/XJsbOfHiDJfs3NrDRw4MJn57Gc/m8zknNciIi666KJkZtGiRclMvY55xMa3J0vcjz179szKHX/88cnM0KFDk5nc/Xj00UcnM3/84x+TmSlTpmT1a29vT2Zy3yvV873thiD3Mc2ZQ7785S9n1Xr66aeTmcGDByczI0eOzOo3c+bMZOZHP/pRMpP73N1QZhpX0AEAAKAABnQAAAAogAEdAAAACmBABwAAgAIY0AEAAKAABnQAAAAogAEdAAAACmBABwAAgAIY0AEAAKAAzV29gHqrqqputbbccsus3Pnnn5/MvPbaa3WpExHR2dmZzNTzONRTqetaVxoaGrJyW2+9dTJzzTXXZNUaMmRIMjNnzpxk5pZbbsnqd+mllyYzffr0SWb22muvrH6bbbZZMnPJJZdk1Vq8eHFWbkOwfPnyZOaiiy7KqpWzb2u1WlatLbbYIpnZfffdk5ntt98+q9/999+fzCxYsCCrVr1saue9rtKrV6+s3Oc///lkJuc8+n/+z//J6pez33KfT+ubvbvm9txzz6zc5MmTk5mlS5cmM/Pnz8/qN2zYsGTmiCOOSGb+8Ic/ZPXLkbvPNrX92NHRkZW75557kpn/8T/+R1atnHllp512SmZy37PmaG9vT2a6Ym+sy56uoAMAAEABDOgAAABQAAM6AAAAFMCADgAAAAUwoAMAAEABDOgAAABQAAM6AAAAFMCADgAAAAVo7uoF1FtDQ0NWrrk5/a1/6lOfyqrVq1evZOass85KZl544YWsfk1NTclMZ2dnMlNVVVa/HPWsVYKcfZSzh/r375/V77zzzqvLmiIiLrjggmTmlltuSWbmz5+f1W/JkiXJTEtLSzLz0EMPZfXLWdfChQuzam1Mcp7zv/3tb7Nq3X///cnM4sWLs2oNGTIkmfnNb36TzPTt2zerX85+ZMOTcw45/vjjs2ptvfXWycy//du/JTPPPvtsVr9u3bolMzmvoTnPcdaPPn36JDNf/epXs2rNnTs3mTn77LOTmZx9FhHxr//6r8lMe3t7MpP7nmRje39YL/V8zi9YsGBtl7NCY2P62u173/veZKa1tTWr3x//+Mes3PpUwp51BR0AAAAKYEAHAACAAhjQAQAAoAAGdAAAACiAAR0AAAAKYEAHAACAAhjQAQAAoAAGdAAAACiAAR0AAAAK0NzVC3gnGhoa6lZryJAhycyHPvShrFqzZ89OZrp3757MvP/978/qN2vWrGTmmWeeSWaWL1+e1a+ex72qqrrVWpdyvuf+/fsnM2effXZWv8GDByczJ5xwQlatuXPnJjPt7e3JTGdnZ1a/Wq1Wl8xzzz2X1S9n7bn7rJ57u6s1NqZ/3rps2bKsWjnnhtxjvNVWWyUzOWufPn16Vr+XX345mcl53HP3Rk5uQznv1VvOsWluznsbsu+++yYzBx10UFat73znO8lMzuv69ttvn9Vv4MCBycydd96ZzLS1tWX1q+d5bWM6R+bIea8WEfHBD34wmdlxxx2zap177rnJzN13353MjBs3Lqtft27dkplXX301mcl9j2A/rl6prx29e/dOZo499thkJue9aETE888/n8yU+rivy3W5gg4AAAAFMKADAABAAQzoAAAAUAADOgAAABTAgA4AAAAFMKADAABAAQzoAAAAUAADOgAAABSguasXUG8tLS1ZuZ122imZGTt2bFatV155JZk57rjjkpktttgiq9+CBQuSmTPOOCOZefjhh7P6LV++PJlpaGjIqlWr1bJyXS3n+zn44IOTmU9+8pNZ/WbPnp3M5DwOERHvete7kpnevXsnM7Nmzcrq197enswsWbIkq9b6VlVVVy+hbjo7O5OZ3OdpTm6bbbbJqvXVr341menfv38yM2fOnKx+vXr1SmaWLl2azOTs64i8PZR73Dem/ZirX79+Wbm///u/T2YaG/OuOUydOjWZyXnMLrrooqx+ra2tycz73ve+ZGbx4sVZ/XL2Ue6x2tT2ZO77sC996UvJzLx587Jq3XLLLclMzuPw/ve/P6tfzmvFPffck8zkvp/LyeWeIzc19TwuubVyngPdu3dPZn76059m9Xv11VeTmZw9W08l7EdX0AEAAKAABnQAAAAogAEdAAAACmBABwAAgAIY0AEAAKAABnQAAAAogAEdAAAACmBABwAAgAI0d/UC3omqqpKZ7t27Z9UaMmRIMtO7d++sWj169EhmZs+encxMnTo1q9/++++fzBx77LHJzMMPP5zVL0fOY/NOcl2toaEhmVm4cGEyM3/+/Kx+ra2tycxll12WVaulpSWZmTt3bjLz7//+71n9/vCHPyQznZ2dWbVYt3Kff42N6Z/dDhs2LKvWqFGjkpnNNtssmdlll12y+n3zm99MZi699NJkZsqUKVn9Ojo6kpmc80nEhnN+rKempqasXM5xfvbZZ7Nq5bxP2HHHHZOZnXbaKavfvHnzkpm2trZkpiv2x8a0J3POa/vss09WrS233DKZOeaYY7Jq5bw/HDFiRDJzxBFHZPWbNWtWMpPz/rBWq2X1y5F7jqxnz65Wz+dWzvFrbs4b+Q488MBkJud95q233prVL+f9YannoXW5LlfQAQAAoAAGdAAAACiAAR0AAAAKYEAHAACAAhjQAQAAoAAGdAAAACiAAR0AAAAKYEAHAACAAhjQAQAAoADNXb2Aeuvo6MjKNTbW72cTL774YjLz//7f/0tmOjs7s/otWrQomXn44Yfr1q+qqqzcxiTn2Nx6663JzAMPPJDV75RTTqnLmiIievXqlcwMHjw4mTnjjDOy+uWsPec5UqvVsvqxeg0NDclM7nM557H485//nFXrvvvuS2YGDhyYzLS1tWX1q9f5qp7nvU3xHBqR932//vrrWbWefvrpZGaXXXbJqvXFL34xmTnhhBOSmaampqx+Z555ZjKTexzqZVPckzmP1yGHHJJVa9asWcnMI488klVr8803T2auuuqqZGbcuHFZ/SZPnpzM5OzHnNecXJvifqzn8cvRvXv3rNz++++fzMyePTuZmT59ela/EpWwH11BBwAAgAIY0AEAAKAABnQAAAAogAEdAAAACmBABwAAgAIY0AEAAKAABnQAAAAogAEdAAAACtDc1Qt4JxoaGpKZjo6OrFpz586tW63NN988mTnwwAOTmeXLl2f1u/3225OZW265JZnp7OzM6ldPOY9hCaqqSmZqtVoys3Dhwqx+d955ZzIzY8aMrFo5vvWtbyUzQ4cOzaqVcxxyHvcNZW+Uan0fvyVLlmTlpkyZkszssMMOycy3v/3trH633XZbMtPe3p7M5J4fc84VuY/NxvYcyPl+Xn/99axaN910UzKz8847Z9U67LDDkpk+ffokM88880xWv/vuuy+ZqedjX2qtdSlnnb169Upmtt9++6x+w4cPT2b+/d//PavWHnvskcwMHDgwmbnxxhuz+v385z9PZnLOa11hQ9mPOXK+l9zHobExfb119913z6q13377JTO33nprMrN48eKsfjk2psc9lyvoAAAAUAADOgAAABTAgA4AAAAFMKADAABAAQzoAAAAUAADOgAAABTAgA4AAAAFMKADAABAAZq7egHvRFVVyUx7e3tWrXvuuSeZueOOO7Jqde/ePZm5/fbbk5m77747q9/UqVOTmeXLlyczOcez3hoaGtZ7z67Up0+frFyvXr2SmdbW1qxae+65ZzIzZsyYZOanP/1pVr958+YlM52dnVm16mVT22cRXfN8zrHTTjslMznPkxkzZmT1e+2115KZnGNV6vHckNTzNfvee+9NZiZOnJhVa8cdd0xmttxyy2Rm+vTpWf3mzJmTzOQehxw5x31jO0fWa6/Nnz8/q9/o0aOTmUMOOSSrVkdHRzLzzW9+M5m5+OKLs/otXrw4K5dSz3PkxrYfc6zv43faaadl1co5982cOTOZqec5rZ42lPOjK+gAAABQAAM6AAAAFMCADgAAAAUwoAMAAEABDOgAAABQAAM6AAAAFMCADgAAAAUwoAMAAEABDOgAAABQgOauXsA7UVVV3Wq9+uqrycwJJ5yQVWv58uXJTFtbWzLT0dGR1a9Wq2XlSlTPx7Cr5XwvvXr1yqr1wQ9+MJnZbbfdsmr17ds3mfnVr36VzFx00UVZ/XL37fq0Me2zXPX8nhsaGpKZzs7OrFrLli1LZrbccstkZtCgQVn9HnzwwWRmfe+PTXE/1lvOeWbu3LlZtV588cW1XU5E5D+uOc8Ve3LdyzkXTZ48OavWwIEDk5nXXnstq9brr7+ezMybNy+Zyfn+Isp87Etc04ake/fuyczOO++cVSvnXPu73/0umannY7opnh9dQQcAAIACGNABAACgAAZ0AAAAKIABHQAAAApgQAcAAIACGNABAACgAAZ0AAAAKIABHQAAAArQ3NULeCcaGhqSmdwPl1++fHky8/LLL2fVylHPD71vbEz/XKWe/XJq5Tw2ubU2FDnfywsvvJBV66677kpmZs2alVXrkUceSWZ+97vfJTPt7e1Z/ZqampKZWq2WVSvHxrSHNmS5j8Odd96ZzAwbNiyZeemll7L65ZwfOzs7s2qxYck9z9TzfJQj9/Uxxblv7XR0dCQzzz33XFatnFy9Hvdcufsj5xyZ8xzZFN/31dP6fp+e8z4zIu+95kMPPVSXNUWU+TwpYW+7gg4AAAAFMKADAABAAQzoAAAAUAADOgAAABTAgA4AAAAFMKADAABAAQzoAAAAUAADOgAAABTAgA4AAAAFaKiqqlrTOzc1NSUztVptTcuvoqGhoW61SpT7/a3FQ7bO+uWuqbEx/TOhzs7OrFp/q8T92K1bt6xaPXv2TGZyj/HSpUuTmfb29qxa65P9+NZyjk09z4/1rNW7d+9kZvDgwcnM3Llzs/otWrQomanXObTetdblfozYsPdkjno+Fjnqec6q57HaFM+ROUrdjxvqe1uv2ete7jHOea/Zq1evrFodHR3JzJIlS5KZ3GNlpnmL2mt0LwAAAKCuDOgAAABQAAM6AAAAFMCADgAAAAUwoAMAAEABDOgAAABQAAM6AAAAFMCADgAAAAVoqOr1CfEAAADAGnMFHQAAAApgQAcAAIACGNABAACgAAZ0AAAAKIABHQAAAApgQAcAAIACGNABAACgAAZ0AAAAKIABHQAAAApgQAcAAIACGNABAACgAAZ0AAAAKIABHQAAAApgQAcAAIACGNABAACgAAZ0AAAAKIABHQAAAApgQAcAAIACGNABAACgAAZ0AAAAKIABHQAAAApgQAcAAIACGNABAACgAAZ0AAAAKIABHQAAAApgQAcAAIACGNABAACgAAZ0AAAAKMD/B3pBPAa788duAAAAAElFTkSuQmCC\n",
            "text/plain": [
              "<IPython.core.display.Image object>"
            ]
          },
          "metadata": {}
        },
        {
          "output_type": "display_data",
          "data": {
            "text/plain": [
              "<Figure size 1000x400 with 12 Axes>"
            ],
            "image/png": "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\n"
          },
          "metadata": {}
        }
      ]
    }
  ]
}


Imports: Libraries like torch, torch.nn, datasets, matplotlib are imported, and the IPython.display is used to display images inline in Jupyter environments.

Data Loading and Transformation: The MNIST dataset is loaded and preprocessed by converting the images into tensors and resizing them.

Model Definition: The autoencoder is created with an encoder (convolutional layers) and decoder (transposed convolutional layers).

Training Loop: The model is trained for 2 epochs with Mean Squared Error loss for image reconstruction. The optimizer (Adam) adjusts the weights.

Visualization: After training, a batch of images is passed through the autoencoder. Both original and reconstructed images are displayed side by side.

Saving and Displaying: The results are saved as an image file, and if running in a Jupyter environment, it will also display the image inline.
